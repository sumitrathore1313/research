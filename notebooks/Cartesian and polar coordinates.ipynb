{
 "cells": [
  {
   "cell_type": "markdown",
   "source": [
    "### Cartesian coordinate vs polar coordinates"
   ],
   "metadata": {
    "collapsed": false,
    "pycharm": {
     "name": "#%% md\n",
     "is_executing": false
    }
   }
  },
  {
   "cell_type": "code",
   "execution_count": 1,
   "outputs": [],
   "source": [
    "import numpy as np\n",
    "import matplotlib.pyplot as plt"
   ],
   "metadata": {
    "collapsed": false,
    "pycharm": {
     "name": "#%%\n",
     "is_executing": false
    }
   }
  },
  {
   "cell_type": "markdown",
   "source": [
    "#### convert cartesian to polar"
   ],
   "metadata": {
    "collapsed": false,
    "pycharm": {
     "name": "#%% md\n"
    }
   }
  },
  {
   "cell_type": "code",
   "execution_count": 2,
   "outputs": [],
   "source": [
    "def cart_polar(x, y):\n",
    "    \"\"\"\n",
    "    this function will convert cartesian coordinate to polar coordinates\n",
    "    :param x: numpy array of x points\n",
    "    :param y: numpy array of y point\n",
    "    :return: (r, theta) will return two variable of polar coordinates\n",
    "    \"\"\"\n",
    "    \n",
    "    r = np.sqrt(np.square(x) + np.square(y))\n",
    "    theta = np.arctan(y/x)\n",
    "    return r, theta"
   ],
   "metadata": {
    "collapsed": false,
    "pycharm": {
     "name": "#%% \n",
     "is_executing": false
    }
   }
  },
  {
   "cell_type": "code",
   "execution_count": 3,
   "outputs": [],
   "source": [
    "datasets1 = np.array(\n",
    "    [\n",
    "        [-5, -5],\n",
    "        [5, -5],\n",
    "        [-5, 5],\n",
    "        [5, 5]\n",
    "    ],\n",
    "    dtype=np.float64    \n",
    ")\n",
    "datasets2 = np.array(\n",
    "    [\n",
    "        [1, 1],\n",
    "        [-2, -2],\n",
    "    ],\n",
    "    dtype=np.float64    \n",
    ")\n",
    "\n",
    "X1 = datasets1[:, 0]\n",
    "Y1 = datasets1[:, 1]\n",
    "X2 = datasets2[:, 0]\n",
    "Y2 = datasets2[:, 1]"
   ],
   "metadata": {
    "collapsed": false,
    "pycharm": {
     "name": "#%%\n",
     "is_executing": false
    }
   }
  },
  {
   "cell_type": "markdown",
   "source": [
    "#### plot the dataset"
   ],
   "metadata": {
    "collapsed": false,
    "pycharm": {
     "name": "#%% md\n"
    }
   }
  },
  {
   "cell_type": "code",
   "execution_count": 4,
   "outputs": [
    {
     "data": {
      "text/plain": "<matplotlib.collections.PathCollection at 0x7fb17ce5c1d0>"
     },
     "metadata": {},
     "output_type": "execute_result",
     "execution_count": 4
    },
    {
     "data": {
      "text/plain": "<Figure size 432x288 with 1 Axes>",
      "image/png": "[encoded data removed]"
     },
     "metadata": {},
     "output_type": "display_data"
    }
   ],
   "source": [
    "plt.scatter(X1, Y1, color='red')\n",
    "plt.scatter(X2, Y2, color='blue')"
   ],
   "metadata": {
    "collapsed": false,
    "pycharm": {
     "name": "#%%\n",
     "is_executing": false
    }
   }
  },
  {
   "cell_type": "markdown",
   "source": [
    "#### convert this to polar coordinates"
   ],
   "metadata": {
    "collapsed": false,
    "pycharm": {
     "name": "#%% md\n"
    }
   }
  },
  {
   "cell_type": "code",
   "execution_count": 5,
   "outputs": [
    {
     "data": {
      "text/plain": "<matplotlib.collections.PathCollection at 0x7fb17ce482b0>"
     },
     "metadata": {},
     "output_type": "execute_result",
     "execution_count": 5
    },
    {
     "data": {
      "text/plain": "<Figure size 432x288 with 1 Axes>",
      "image/png": "[encoded data removed]"
     },
     "metadata": {},
     "output_type": "display_data"
    }
   ],
   "source": [
    "r1, theta1 = cart_polar(X1, Y1)\n",
    "r2, theta2 = cart_polar(X2, Y2)\n",
    "plt.scatter(r1, theta1, color='red')\n",
    "plt.scatter(r2, theta2, color='blue')"
   ],
   "metadata": {
    "collapsed": false,
    "pycharm": {
     "name": "#%%\n",
     "is_executing": false
    }
   }
  }
 ],
 "metadata": {
  "kernelspec": {
   "display_name": "Python 3",
   "language": "python",
   "name": "python3"
  },
  "language_info": {
   "codemirror_mode": {
    "name": "ipython",
    "version": 2
   },
   "file_extension": ".py",
   "mimetype": "text/x-python",
   "name": "python",
   "nbconvert_exporter": "python",
   "pygments_lexer": "ipython2",
   "version": "2.7.6"
  },
  "pycharm": {
   "stem_cell": {
    "cell_type": "raw",
    "source": [],
    "metadata": {
     "collapsed": false
    }
   }
  }
 },
 "nbformat": 4,
 "nbformat_minor": 0
}