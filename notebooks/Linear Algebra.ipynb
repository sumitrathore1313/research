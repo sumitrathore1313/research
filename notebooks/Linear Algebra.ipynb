{
 "cells": [
  {
   "cell_type": "markdown",
   "metadata": {
    "collapsed": true,
    "pycharm": {
     "name": "#%% md\n"
    }
   },
   "source": [
    "# Linear Algebra\n",
    "## Definitions\n",
    "### Vector and Matrices"
   ]
  },
  {
   "cell_type": "code",
   "source": [
    "import numpy as np"
   ],
   "metadata": {
    "collapsed": false,
    "pycharm": {
     "name": "#%%\n",
     "is_executing": false
    }
   },
   "execution_count": 1,
   "outputs": []
  },
  {
   "cell_type": "code",
   "execution_count": 2,
   "outputs": [
    {
     "name": "stdout",
     "text": [
      "[[5 6]\n [9 8]]\n[[5 7]\n [8 8]]\n"
     ],
     "output_type": "stream"
    }
   ],
   "source": [
    "A = np.array([\n",
    "    [2, 3],\n",
    "    [5, 4]\n",
    "])\n",
    "(M, N) = A.shape\n",
    "B = np.array([\n",
    "    [3],\n",
    "    [4]\n",
    "])\n",
    "print(A+B)\n",
    "print(A+B.T)"
   ],
   "metadata": {
    "collapsed": false,
    "pycharm": {
     "name": "#%%\n",
     "is_executing": false
    }
   }
  },
  {
   "cell_type": "code",
   "execution_count": 8,
   "outputs": [
    {
     "name": "stdout",
     "text": [
      "51.478150704935004\n[[51]]\n[[0.1364026]]\n"
     ],
     "output_type": "stream"
    }
   ],
   "source": [
    "A = np.array([\n",
    "    [3],\n",
    "    [4]\n",
    "])\n",
    "B = np.array([\n",
    "    [5],\n",
    "    [9]\n",
    "])\n",
    "\n",
    "print(np.linalg.norm(A)*np.linalg.norm(B))\n",
    "print(np.dot(A.T, B))\n",
    "theta = np.arccos(np.dot(A.T, B)/(np.linalg.norm(A)*np.linalg.norm(B)))\n",
    "print(theta)\n",
    "\n",
    "\n",
    "\n"
   ],
   "metadata": {
    "collapsed": false,
    "pycharm": {
     "name": "#%%\n",
     "is_executing": false
    }
   }
  },
  {
   "cell_type": "code",
   "execution_count": null,
   "outputs": [],
   "source": [
    "\n"
   ],
   "metadata": {
    "collapsed": false,
    "pycharm": {
     "name": "#%%\n"
    }
   }
  }
 ],
 "metadata": {
  "kernelspec": {
   "display_name": "Python 3",
   "language": "python",
   "name": "python3"
  },
  "language_info": {
   "codemirror_mode": {
    "name": "ipython",
    "version": 2
   },
   "file_extension": ".py",
   "mimetype": "text/x-python",
   "name": "python",
   "nbconvert_exporter": "python",
   "pygments_lexer": "ipython2",
   "version": "2.7.6"
  },
  "pycharm": {
   "stem_cell": {
    "cell_type": "raw",
    "source": [],
    "metadata": {
     "collapsed": false
    }
   }
  }
 },
 "nbformat": 4,
 "nbformat_minor": 0
}