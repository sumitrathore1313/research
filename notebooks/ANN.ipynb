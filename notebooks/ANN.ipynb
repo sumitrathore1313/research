{
 "cells": [
  {
   "cell_type": "markdown",
   "metadata": {
    "collapsed": true,
    "pycharm": {
     "name": "#%% md\n"
    }
   },
   "source": [
    "# Artificial Neural Network Implementation"
   ]
  },
  {
   "cell_type": "markdown",
   "source": [
    "#### Append window path to import modules"
   ],
   "metadata": {
    "collapsed": false,
    "pycharm": {
     "name": "#%% md\n"
    }
   }
  },
  {
   "cell_type": "code",
   "execution_count": 1,
   "outputs": [],
   "source": [
    "import sys\n",
    "sys.path.append('/mnt/c/Users/sumit/PycharmProjects/research')"
   ],
   "metadata": {
    "collapsed": false,
    "pycharm": {
     "name": "#%%\n",
     "is_executing": false
    }
   }
  },
  {
   "cell_type": "markdown",
   "source": [
    "### Define Global Parameter and variables"
   ],
   "metadata": {
    "collapsed": false
   }
  },
  {
   "cell_type": "code",
   "execution_count": 2,
   "outputs": [],
   "source": [
    "input_node = 784\n",
    "hidden_layer_node = [ 1024, 1024 ]\n",
    "output_node = 10\n",
    "batch_size = 128\n",
    "intial_learning_rate = 0.001\n",
    "optimizer = \"SGD\"\n",
    "epoch = 20"
   ],
   "metadata": {
    "collapsed": false,
    "pycharm": {
     "name": "#%%\n",
     "is_executing": false
    }
   }
  },
  {
   "cell_type": "markdown",
   "source": [
    "### MNIST Dataset"
   ],
   "metadata": {
    "collapsed": false,
    "pycharm": {
     "name": "#%% md\n"
    }
   }
  },
  {
   "cell_type": "code",
   "execution_count": 3,
   "outputs": [],
   "source": [
    "import mnist_loader\n",
    "train_data, validation_data, test_data = mnist_loader.load_data_wrapper()"
   ],
   "metadata": {
    "collapsed": false,
    "pycharm": {
     "name": "#%%\n",
     "is_executing": false
    }
   }
  },
  {
   "cell_type": "code",
   "execution_count": 4,
   "outputs": [],
   "source": [
    "import numpy as np\n",
    "import matplotlib.pyplot as plt\n",
    "from tqdm import tqdm"
   ],
   "metadata": {
    "collapsed": false,
    "pycharm": {
     "name": "#%%\n",
     "is_executing": false
    }
   }
  },
  {
   "cell_type": "code",
   "execution_count": 5,
   "outputs": [],
   "source": [
    "train_data = np.array([*train_data])\n",
    "validation_data = np.array(list(validation_data))\n",
    "test_data = np.array(list(test_data))"
   ],
   "metadata": {
    "collapsed": false,
    "pycharm": {
     "name": "#%%\n",
     "is_executing": false
    }
   }
  },
  {
   "cell_type": "code",
   "execution_count": 6,
   "outputs": [
    {
     "name": "stdout",
     "text": [
      "shape of training set -  (50000, 2)\nshape of validation set -  (10000, 2)\nshape of test set -  (10000, 2)\n"
     ],
     "output_type": "stream"
    }
   ],
   "source": [
    "print(\"shape of training set - \", train_data.shape)\n",
    "print(\"shape of validation set - \", validation_data.shape)\n",
    "print(\"shape of test set - \", test_data.shape)"
   ],
   "metadata": {
    "collapsed": false,
    "pycharm": {
     "name": "#%%\n",
     "is_executing": false
    }
   }
  },
  {
   "cell_type": "code",
   "execution_count": 7,
   "outputs": [],
   "source": [
    "train_x = train_data[:, 0]\n",
    "train_y = train_data[:, 1]\n",
    "test_x = test_data[:, 0]\n",
    "test_y = test_data[:, 1]"
   ],
   "metadata": {
    "collapsed": false,
    "pycharm": {
     "name": "#%%\n",
     "is_executing": false
    }
   }
  },
  {
   "cell_type": "code",
   "execution_count": 8,
   "outputs": [
    {
     "name": "stdout",
     "text": [
      "shape of train data (50000,) (50000,)\nshape of test data (10000,) (10000,)\n"
     ],
     "output_type": "stream"
    }
   ],
   "source": [
    "print(\"shape of train data\", np.array(train_x).shape, train_y.shape)\n",
    "print(\"shape of test data\", test_x.shape, test_y.shape)"
   ],
   "metadata": {
    "collapsed": false,
    "pycharm": {
     "name": "#%%\n",
     "is_executing": false
    }
   }
  },
  {
   "cell_type": "markdown",
   "source": [
    "#### Batch Function"
   ],
   "metadata": {
    "collapsed": false
   }
  },
  {
   "cell_type": "code",
   "execution_count": 9,
   "outputs": [],
   "source": [
    "def create_batch(X, Y, batch_size = 32):\n",
    "    for i in range(0, len(X), batch_size):\n",
    "        yield X[i:i+batch_size], Y[i:i+batch_size]"
   ],
   "metadata": {
    "collapsed": false,
    "pycharm": {
     "name": "#%%\n",
     "is_executing": false
    }
   }
  },
  {
   "cell_type": "markdown",
   "source": [
    "### Define a Neural Network Model"
   ],
   "metadata": {
    "collapsed": false,
    "pycharm": {
     "name": "#%% md\n"
    }
   }
  },
  {
   "cell_type": "code",
   "execution_count": 10,
   "outputs": [],
   "source": [
    "class Model():\n",
    "    \n",
    "    def __init__(self, input_node, hidden_layer_node, \n",
    "                 output_node, alpha, optimizer, \n",
    "                 weights = None, bias = None ):\n",
    "        \"\"\"\n",
    "        Initialize the neural network \n",
    "        :param input_node: number of input nodes\n",
    "        :param hidden_layer_node: number of hidden nodes\n",
    "        must be array of size 2\n",
    "        :param output_node: number of output class\n",
    "        :param alpha: learning rate\n",
    "        :param optimizer: optimizer function\n",
    "        :param weights: weights of network\n",
    "        :param bias: bias of network\n",
    "        \"\"\"\n",
    "        self.optimizer = optimizer\n",
    "        self.alpha = alpha\n",
    "        self.output_node = output_node\n",
    "        self.hidden_layer_node = hidden_layer_node\n",
    "        self.input_node = input_node\n",
    "        self.weights = weights if weights else np.array( [\n",
    "            np.random.randn(hidden_layer_node[0], input_node),\n",
    "            np.random.randn(hidden_layer_node[1], hidden_layer_node[0]),\n",
    "            np.random.randn(output_node, hidden_layer_node[1])\n",
    "        ])\n",
    "        self.bias = bias if bias else np.array( [\n",
    "            np.random.randn(hidden_layer_node[0]),\n",
    "            np.random.randn(hidden_layer_node[1]),\n",
    "            np.random.randn(output_node)\n",
    "        ])\n",
    "    \n",
    "    def sigmoid(self, Z):\n",
    "        \n",
    "        return 1.0 / ( 1.0 + np.exp(-Z) )\n",
    "    \n",
    "    def create_batch(self, X, Y, batch_size = 32):\n",
    "        for i in range(0, len(X), batch_size):\n",
    "            yield X[i:i+batch_size], Y[i:i+batch_size]\n",
    "        \n",
    "    def forward(self, X):\n",
    "        \"\"\"\n",
    "        forward implementation of neural network\n",
    "        :param X: input vectors of m training examples\n",
    "        suppose single input image have 28*28 pixel means total 784 pixels \n",
    "        then size of single input vector will (1, 784) but their is m training examples\n",
    "        so size of input will be (m, 784)\n",
    "        shape - (m, n) m - size of examples and n - size of single input\n",
    "        :return: output of neural network\n",
    "        \"\"\"\n",
    "        #   Output from first layer\n",
    "        Z1 = np.dot(X, self.weights[0].T) + self.bias[0]\n",
    "        A1 = self.sigmoid(Z1)\n",
    "        Z2 = np.dot(A1, self.weights[1].T) + self.bias[1]\n",
    "        A2 = self.sigmoid(Z2)\n",
    "        Z3 = np.dot(A2, self.weights[2].T) + self.bias[2]\n",
    "        output = self.sigmoid(Z3)\n",
    "        \n",
    "        return output\n",
    "    \n",
    "    def backward(self, X, Y):\n",
    "        \"\"\"\n",
    "        implementation of backward algorithm to compute gradient of weights and bias\n",
    "        :param X: (m,n) - input\n",
    "        :param Y: (m, 10)output vector\n",
    "        :return: (delta_weight, delta_bias) - gradient of weights and bias\n",
    "        \"\"\"\n",
    "        # initialized nabla weight and bias\n",
    "        delta_weight = [ np.zeros(i.shape) for i in self.weights]\n",
    "        delta_bias = [np.zeros(i.shape) for i in self.bias]\n",
    "        \n",
    "        # store activation to compute delta\n",
    "        activation = [X]\n",
    "        Z1 = np.dot(X, self.weights[0].T) + self.bias[0]\n",
    "        A1 = self.sigmoid(Z1)\n",
    "        activation.append(A1)\n",
    "        Z2 = np.dot(A1, self.weights[1].T) + self.bias[1]\n",
    "        A2 = self.sigmoid(Z2)\n",
    "        activation.append(A2)\n",
    "        Z3 = np.dot(A2, self.weights[2].T) + self.bias[2]\n",
    "        output = self.sigmoid(Z3)\n",
    "        activation.append(output)\n",
    "        \n",
    "        # compute nabla for last layer\n",
    "        delta = (activation[-1] - Y)\n",
    "        delta_weight[-1] = np.dot(delta.T, activation[-2])\n",
    "        delta_bias[-1] = np.sum(delta, axis=0)\n",
    "        \n",
    "        delta = np.dot(delta, self.weights[-1]) * activation[-2] * (1 - activation[-2])\n",
    "        delta_weight[-2] = np.dot(delta.T, activation[-3])\n",
    "        delta_bias[-2] = np.sum(delta, axis=0)\n",
    "        \n",
    "        delta = np.dot(delta, self.weights[-2]) * activation[-3] * (1 - activation[-3])\n",
    "        delta_weight[-2] = np.dot(delta.T, activation[-3])\n",
    "        delta_bias[-2] = np.sum(delta, axis=0)\n",
    "        \n",
    "        return np.array(delta_weight), np.array(delta_bias)\n",
    "        \n",
    "    def softmax(self, scores):\n",
    "        return np.exp(scores)/np.sum(np.exp(scores), axis=0)\n",
    "    \n",
    "    def training(self, train_data, epoch, batch_size, alpha):\n",
    "        for i in tqdm(range(epoch)):\n",
    "            np.random.shuffle(train_data)\n",
    "            train_x = train_data[:, 0]\n",
    "            train_y = train_data[:, 1]\n",
    "            nabla_weight = [np.zeros(i.shape) for i in self.weights]\n",
    "            nabla_bias = [np.zeros(i.shape) for i in self.bias]\n",
    "            for X,Y in create_batch(train_x, train_y, batch_size):\n",
    "                X = np.array([ i.reshape(input_node) for i in X ])\n",
    "                Y = np.array([ i.reshape(output_node) for i in Y ])\n",
    "                delta_weight, delta_bias = model.backward(X, Y)\n",
    "                nabla_weight = nabla_weight + delta_weight\n",
    "                nabla_bias = nabla_bias + delta_bias\n",
    "                self.weights = self.weights - alpha * (1.0 / batch_size) * nabla_weight\n",
    "                self.bias = self.bias - alpha * (1.0 / batch_size) * nabla_bias\n",
    "                \n",
    "    \n",
    "        "
   ],
   "metadata": {
    "collapsed": false,
    "pycharm": {
     "name": "#%%\n",
     "is_executing": false
    }
   }
  },
  {
   "cell_type": "markdown",
   "source": [
    "#### train the model"
   ],
   "metadata": {
    "collapsed": false
   }
  },
  {
   "cell_type": "code",
   "execution_count": 11,
   "outputs": [
    {
     "name": "stderr",
     "text": [
      "\r  0%|          | 0/20 [00:00<?, ?it/s]",
      "\r  5%|▌         | 1/20 [00:18<05:47, 18.28s/it]",
      "\r 10%|█         | 2/20 [00:36<05:27, 18.20s/it]",
      "\r 15%|█▌        | 3/20 [00:54<05:07, 18.08s/it]",
      "\r 20%|██        | 4/20 [01:11<04:48, 18.02s/it]",
      "\r 25%|██▌       | 5/20 [01:29<04:28, 17.91s/it]",
      "\r 30%|███       | 6/20 [01:48<04:13, 18.12s/it]",
      "\r 35%|███▌      | 7/20 [02:05<03:53, 17.98s/it]",
      "\r 40%|████      | 8/20 [02:23<03:34, 17.85s/it]",
      "\r 45%|████▌     | 9/20 [02:40<03:15, 17.76s/it]",
      "\r 50%|█████     | 10/20 [02:58<02:57, 17.72s/it]",
      "\r 55%|█████▌    | 11/20 [03:16<02:39, 17.69s/it]",
      "\r 60%|██████    | 12/20 [03:34<02:21, 17.74s/it]",
      "\r 65%|██████▌   | 13/20 [03:51<02:04, 17.75s/it]",
      "\r 70%|███████   | 14/20 [04:10<01:47, 17.92s/it]",
      "\r 75%|███████▌  | 15/20 [04:27<01:29, 17.86s/it]",
      "\r 80%|████████  | 16/20 [04:45<01:11, 17.85s/it]",
      "\r 85%|████████▌ | 17/20 [05:03<00:53, 17.84s/it]",
      "\r 90%|█████████ | 18/20 [05:21<00:35, 17.95s/it]",
      "\r 95%|█████████▌| 19/20 [05:39<00:17, 17.90s/it]",
      "\r100%|██████████| 20/20 [05:57<00:00, 17.95s/it]",
      "\r100%|██████████| 20/20 [05:57<00:00, 17.88s/it]",
      "\n"
     ],
     "output_type": "stream"
    }
   ],
   "source": [
    "model = Model(input_node, hidden_layer_node, output_node, \n",
    "              intial_learning_rate, optimizer)\n",
    "\n",
    "model.training(train_data, epoch=epoch, batch_size=batch_size, \n",
    "               alpha=intial_learning_rate)"
   ],
   "metadata": {
    "collapsed": false,
    "pycharm": {
     "name": "#%%\n",
     "is_executing": false
    }
   }
  },
  {
   "cell_type": "markdown",
   "source": [
    "#### test the model"
   ],
   "metadata": {
    "collapsed": false
   }
  },
  {
   "cell_type": "code",
   "execution_count": 12,
   "outputs": [],
   "source": [
    "temp_X = np.array([ i.reshape(input_node) for i in train_x ])\n",
    "temp_Y = np.array([ i.reshape(output_node) for i in train_y ])"
   ],
   "metadata": {
    "collapsed": false,
    "pycharm": {
     "name": "#%%\n",
     "is_executing": false
    }
   }
  },
  {
   "cell_type": "code",
   "execution_count": 13,
   "outputs": [],
   "source": [
    "pred = np.argmax(model.forward(temp_X), axis=1)\n",
    "actual = np.argmax(temp_Y, axis=1)"
   ],
   "metadata": {
    "collapsed": false,
    "pycharm": {
     "name": "#%%\n",
     "is_executing": false
    }
   }
  },
  {
   "cell_type": "code",
   "execution_count": 14,
   "outputs": [
    {
     "data": {
      "text/plain": "0.68176"
     },
     "metadata": {},
     "output_type": "execute_result",
     "execution_count": 14
    }
   ],
   "source": [
    "np.sum(pred == actual)/50000"
   ],
   "metadata": {
    "collapsed": false,
    "pycharm": {
     "name": "#%%\n",
     "is_executing": false
    }
   }
  },
  {
   "cell_type": "code",
   "execution_count": 15,
   "outputs": [
    {
     "data": {
      "image/png": "[encoded data removed]",
      "text/plain": "<Figure size 720x720 with 12 Axes>"
     },
     "metadata": {},
     "output_type": "display_data"
    }
   ],
   "source": [
    "for X,Y in create_batch(train_x, train_y, 12):\n",
    "    X = np.array([ i.reshape(input_node) for i in X ])\n",
    "    Y = np.array([ i.reshape(output_node) for i in Y ])\n",
    "    prediction = model.forward(X)\n",
    "    plt.figure(figsize=(10, 10))\n",
    "    for i in range(X.shape[0]):\n",
    "        plt.subplot(X.shape[0]//4, 4, i+1)\n",
    "        plt.imshow(X[i].reshape((28, 28)))\n",
    "        plt.title(np.argmax(prediction[i]))\n",
    "    break"
   ],
   "metadata": {
    "collapsed": false,
    "pycharm": {
     "name": "#%%\n",
     "is_executing": false
    }
   }
  },
  {
   "cell_type": "code",
   "execution_count": 15,
   "outputs": [],
   "source": [],
   "metadata": {
    "collapsed": false,
    "pycharm": {
     "name": "#%%\n",
     "is_executing": false
    }
   }
  }
 ],
 "metadata": {
  "kernelspec": {
   "name": "python3",
   "language": "python",
   "display_name": "Python 3"
  },
  "language_info": {
   "codemirror_mode": {
    "name": "ipython",
    "version": 2
   },
   "file_extension": ".py",
   "mimetype": "text/x-python",
   "name": "python",
   "nbconvert_exporter": "python",
   "pygments_lexer": "ipython2",
   "version": "2.7.6"
  },
  "pycharm": {
   "stem_cell": {
    "cell_type": "raw",
    "source": [],
    "metadata": {
     "collapsed": false
    }
   }
  }
 },
 "nbformat": 4,
 "nbformat_minor": 0
}