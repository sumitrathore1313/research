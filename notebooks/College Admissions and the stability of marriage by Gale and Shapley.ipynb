{
 "cells": [
  {
   "cell_type": "markdown",
   "metadata": {
    "collapsed": true,
    "pycharm": {
     "name": "#%% md\n"
    }
   },
   "source": [
    "# College Admissions and the stability of marriage by Gale and Shapley"
   ]
  },
  {
   "cell_type": "code",
   "execution_count": 60,
   "outputs": [],
   "source": [
    "import numpy as np\n",
    "import matplotlib.pyplot as plt"
   ],
   "metadata": {
    "collapsed": false,
    "pycharm": {
     "name": "#%%\n",
     "is_executing": false
    }
   }
  },
  {
   "cell_type": "markdown",
   "source": [
    "## College Admission"
   ],
   "metadata": {
    "collapsed": false,
    "pycharm": {
     "name": "#%% md\n"
    }
   }
  },
  {
   "cell_type": "markdown",
   "source": [
    "### Notations\n",
    "#### n - number of applicants\n",
    "#### m - number of colleges\n",
    "#### q - quota or seats in each college i\n",
    "### Rules\n",
    "#### 1. each applicants rank the college in order to his/her preference and omitting only those college he would never accept on any circumstances.\n",
    "#### 2. each college rank the students in order to it preferences and omitting those students which they will never admit theme on any circumstances. even it means not filling its quota or seats.\n",
    "### QUES: What problem this algorithm solves?\n",
    "#### ANS: An assignment of the applicants to colleges will be called unstable if there is two applicants x and y who are assigned to colleges A and B respectively although x prefer B over A and B prefer x over y.  \n",
    "### Theorem 1\n",
    "#### There always exists a stable set of marriages.\n",
    "### Proof - "
   ],
   "metadata": {
    "collapsed": false,
    "pycharm": {
     "name": "#%% md\n"
    }
   }
  },
  {
   "cell_type": "code",
   "execution_count": 61,
   "outputs": [],
   "source": [
    "applicants = [\n",
    "    {\n",
    "        'name': \"u\",\n",
    "        'preference': ['A', 'B', 'C'],\n",
    "        'blacklist': [],\n",
    "        'rejected': []\n",
    "    },\n",
    "    {\n",
    "        'name': \"v\",\n",
    "        'preference': ['B', 'A', 'C'],\n",
    "        'blacklist': [],\n",
    "        'rejected': []\n",
    "    },\n",
    "    {\n",
    "        'name': \"w\",\n",
    "        'preference': ['C', 'B', 'A'],\n",
    "        'blacklist': [],\n",
    "        'rejected': []\n",
    "    },\n",
    "    {\n",
    "        'name': \"x\",\n",
    "        'preference': ['A', 'B'],\n",
    "        'blacklist': ['C'],\n",
    "        'rejected': []\n",
    "    },\n",
    "    {\n",
    "        'name': \"y\",\n",
    "        'preference': ['A', 'B'],\n",
    "        'blacklist': ['C'],\n",
    "        'rejected': []\n",
    "    },\n",
    "    {\n",
    "        'name': \"z\",\n",
    "        'preference': ['C', 'A', 'B'],\n",
    "        'blacklist': [],\n",
    "        'rejected': []\n",
    "    },\n",
    "    \n",
    "]\n",
    "colleges = [\n",
    "    {\n",
    "        'name': \"A\",\n",
    "        'quota': 2,\n",
    "        'preference': ['u', 'x', 'y', 'v', 'w'],\n",
    "        'not_eligible': ['z'],\n",
    "        'waiting_list': []\n",
    "    },\n",
    "    {\n",
    "        'name': \"B\",\n",
    "        'quota': 2,\n",
    "        'preference': ['x', 'z', 'w', 'y', 'v'],\n",
    "        'not_eligible': ['u'],\n",
    "        'waiting_list': []\n",
    "    },\n",
    "    {\n",
    "        'name': \"C\",\n",
    "        'quota': 2,\n",
    "        'preference': ['y', 'x', 'u', 'w', 'v'],\n",
    "        'not_eligible': ['z'],\n",
    "        'waiting_list': []\n",
    "    },\n",
    "]"
   ],
   "metadata": {
    "collapsed": false,
    "pycharm": {
     "name": "#%%\n",
     "is_executing": false
    }
   }
  },
  {
   "cell_type": "markdown",
   "source": [
    "#### 1. Each applicants send job application to first prefer college.\n",
    "#### 2. Each college who received more than one applicant proposal will reject all except her favorite from those proposal.\n",
    "#### 3. college will not finalised that applicant but wait for someone better.\n",
    "#### 4. when a applicant send proposal to college then result is optimal for applicant and when college send proposal to applicant it is optimal for college."
   ],
   "metadata": {
    "collapsed": false,
    "pycharm": {
     "name": "#%% md\n"
    }
   }
  },
  {
   "cell_type": "code",
   "execution_count": 62,
   "outputs": [
    {
     "name": "stdout",
     "text": [
      "iteration 1 finish\niteration 2 finish\niteration 3 finish\niteration 4 finish\niteration 5 finish\niteration 6 finish\n"
     ],
     "output_type": "stream"
    }
   ],
   "source": [
    "def get_colleges_name_list(colleges):\n",
    "    \"\"\"\n",
    "    return name list of all colleges\n",
    "    :param colleges: list of college\n",
    "    :return: list\n",
    "    \"\"\"\n",
    "    return list(map(lambda x : x['name'], colleges))\n",
    "\n",
    "def get_applicants_name_list(applicants):\n",
    "    \"\"\"\n",
    "    return name list of all colleges\n",
    "    :param colleges: list of college\n",
    "    :return: list\n",
    "    \"\"\"\n",
    "    return list(map(lambda x : x['name'], applicants))\n",
    "    \n",
    "colleges_name_list = get_colleges_name_list(colleges)\n",
    "applicants_name_list = get_applicants_name_list(applicants)\n",
    "\n",
    "def is_equal_lists(list1, list2):\n",
    "    \"\"\"\n",
    "    check two python list\n",
    "    :param list1: list 1\n",
    "    :param list2: list 2\n",
    "    :return: True if two list are equal\n",
    "    \"\"\"\n",
    "    list1.sort()\n",
    "    list2.sort()\n",
    "    \n",
    "    return list1 == list2\n",
    "\n",
    "def get_total_waiting_list(colleges):\n",
    "    \"\"\"\n",
    "    return all applicants which are in waiting list of any college\n",
    "    :param colleges: colleges list\n",
    "    :return: Boolean\n",
    "    \"\"\"\n",
    "    \n",
    "    waiting_list = [j for i in map(lambda x : x['waiting_list'], colleges) for j in i]\n",
    "    \n",
    "    return waiting_list\n",
    "\n",
    "def is_match_complete(applicants, colleges):\n",
    "    \"\"\"\n",
    "    The procedure return true when every applicant is either on waiting list q of any college or\n",
    "    has been rejected by every college to which he is willing and permitted to apply.\n",
    "    :param applicants: applicants list\n",
    "    :param colleges: colleges list\n",
    "    :return: Boolean\n",
    "    \"\"\"\n",
    "    global colleges_name_list\n",
    "    global applicants_name_list\n",
    "    waiting_rejected_list = []\n",
    "    \n",
    "    # get all students who are rejected by all colleges\n",
    "    waiting_rejected_list.extend(map(lambda x : x['name'], list(filter(lambda x : is_equal_lists(x['rejected'], colleges_name_list) , applicants))))\n",
    "    \n",
    "    # get all students who are in waiting list of any college\n",
    "    waiting_rejected_list.extend(get_total_waiting_list(colleges))\n",
    "    \n",
    "    # check if any student left who are not rejected by all college or not in waiting list\n",
    "    if not is_equal_lists(applicants_name_list, waiting_rejected_list):\n",
    "        return False\n",
    "    \n",
    "    return True\n",
    "\n",
    "def get_applicant_proposal(applicant, colleges):\n",
    "    \"\"\"\n",
    "    get proposal for applicant\n",
    "    :param applicant: \n",
    "    :return: Dict\n",
    "    \"\"\"\n",
    "    for item in applicant['preference']:\n",
    "        if not item in applicant['rejected'] and not item in get_total_waiting_list(colleges):\n",
    "            return (applicant['name'], item)\n",
    "\n",
    "def get_proposals(remaining_applicants, colleges):\n",
    "    \"\"\"\n",
    "    find proposal of all remaining applicants to colleges\n",
    "    :param remaining_applicants: \n",
    "    :return: return a dict {'<college name>': <applicant name> }\n",
    "    \"\"\"\n",
    "    \n",
    "    # find next favorite college for remaining applicants\n",
    "    proposals = {i:j for i,j in map(lambda x : get_applicant_proposal(x, colleges), remaining_applicants)}\n",
    "    \n",
    "    return proposals\n",
    "\n",
    "def get_lowest_prefer_appicant(waiting_list, preference):\n",
    "    \"\"\"\n",
    "    find lowest prefer applicant in waiting list\n",
    "    :param waiting_list: \n",
    "    :param preference: \n",
    "    :return: return applicant name\n",
    "    \"\"\"\n",
    "    preference_index = list(map(lambda x: preference.index(x), waiting_list))\n",
    "    preference_index.sort()\n",
    "    \n",
    "    return preference[preference_index[-1]]\n",
    "\n",
    "def new_waiting_list(college, applicant_name):\n",
    "    \"\"\"\n",
    "    get new waiting list if college accept this new candidate\n",
    "    :param college: college data\n",
    "    :param applicant_name: name of applicant\n",
    "    :return: \n",
    "    \"\"\"\n",
    "    # if applicant is not in preference than college will reject it\n",
    "    if not applicant_name in college['preference']:\n",
    "        return college['waiting_list'], False\n",
    "    \n",
    "    # if size of waiting list is less than quota we will add that applicant\n",
    "    if college['quota'] > len(college['waiting_list']):\n",
    "        return college['waiting_list'].append(applicant_name), True\n",
    "    \n",
    "    # if applicant have higher preference than applicant that are in waiting list then replace it with lowest preference\n",
    "    lowest_prefer_applicant = get_lowest_prefer_appicant(college['waiting_list'], college['preference'])\n",
    "    if college['preference'].index(lowest_prefer_applicant) > college['preference'].index(applicant_name):\n",
    "        college['waiting_list'].remove(lowest_prefer_applicant)\n",
    "        college['waiting_list'].append(applicant_name)\n",
    "        return college['waiting_list'], True\n",
    "    \n",
    "    return college['waiting_list'], False\n",
    "        \n",
    "\n",
    "def update_rejected_list(applicants, applicant_name, college_name):\n",
    "    \"\"\"\n",
    "    update rejected list of applicant name\n",
    "    :param applicants: \n",
    "    :param applicant_name: \n",
    "    :param college_name: \n",
    "    :return: \n",
    "    \"\"\"\n",
    "    for applicant in applicants:\n",
    "        if applicant_name == applicant['name']:\n",
    "            applicant['rejected'].append(college_name)\n",
    "    \n",
    "    return applicants\n",
    "\n",
    "def update_waiting_list(colleges, proposals, applicants):\n",
    "    \"\"\"\n",
    "    update each college list based on proposal received and college preference\n",
    "    :param colleges: college data\n",
    "    :param proposals: proposal of applicant\n",
    "    :return: \n",
    "    \"\"\"\n",
    "    for applicant_name, college_name in zip(proposals.keys(), proposals.values()):\n",
    "        for college in colleges:\n",
    "            if college['name'] == college_name:\n",
    "                _ , is_selected = new_waiting_list(college, applicant_name)\n",
    "                if not is_selected:\n",
    "                    applicants = update_rejected_list(applicants, applicant_name, college['name'])\n",
    "    \n",
    "    return colleges, applicants\n",
    "\n",
    "count = 0\n",
    "colleges_history = []\n",
    "while not is_match_complete(applicants, colleges):\n",
    "    # get total waiting list\n",
    "    total_waiting_list = get_total_waiting_list(colleges)\n",
    "    \n",
    "    # applicant that is not in total waiting list will send proposal to next favorite college\n",
    "    remaining_applicants_name = list(set(applicants_name_list) - set(total_waiting_list))\n",
    "    remaining_applicants = list(filter(lambda x: x['name'] in remaining_applicants_name, applicants))\n",
    "    proposals = get_proposals(remaining_applicants, colleges)\n",
    "    \n",
    "    # college will receive proposal from applicants and will decide to accept or reject\n",
    "    # update waiting list of each college\n",
    "    colleges, applicants = update_waiting_list(colleges, proposals, applicants)\n",
    "\n",
    "    count += 1\n",
    "    print('iteration '+str(count)+' finish')"
   ],
   "metadata": {
    "collapsed": false,
    "pycharm": {
     "name": "#%%\n",
     "is_executing": false
    }
   }
  },
  {
   "cell_type": "code",
   "execution_count": 63,
   "outputs": [
    {
     "data": {
      "text/plain": "[{'name': 'A',\n  'quota': 2,\n  'preference': ['u', 'x', 'y', 'v', 'w'],\n  'not_eligible': ['z'],\n  'waiting_list': ['u', 'x']},\n {'name': 'B',\n  'quota': 2,\n  'preference': ['x', 'z', 'w', 'y', 'v'],\n  'not_eligible': ['u'],\n  'waiting_list': ['y', 'z']},\n {'name': 'C',\n  'quota': 2,\n  'preference': ['y', 'x', 'u', 'w', 'v'],\n  'not_eligible': ['z'],\n  'waiting_list': ['w', 'v']}]"
     },
     "metadata": {},
     "output_type": "execute_result",
     "execution_count": 63
    }
   ],
   "source": [
    "colleges\n",
    "\n"
   ],
   "metadata": {
    "collapsed": false,
    "pycharm": {
     "name": "#%%\n",
     "is_executing": false
    }
   }
  }
 ],
 "metadata": {
  "kernelspec": {
   "display_name": "Python 3",
   "language": "python",
   "name": "python3"
  },
  "language_info": {
   "codemirror_mode": {
    "name": "ipython",
    "version": 2
   },
   "file_extension": ".py",
   "mimetype": "text/x-python",
   "name": "python",
   "nbconvert_exporter": "python",
   "pygments_lexer": "ipython2",
   "version": "2.7.6"
  },
  "pycharm": {
   "stem_cell": {
    "cell_type": "raw",
    "source": [],
    "metadata": {
     "collapsed": false
    }
   }
  }
 },
 "nbformat": 4,
 "nbformat_minor": 0
}